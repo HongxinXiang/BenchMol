{
 "cells": [
  {
   "metadata": {},
   "cell_type": "markdown",
   "source": "# Demo: Extracting features from molecular image using ImageMol",
   "id": "7f778799d3a1d3ff"
  },
  {
   "metadata": {
    "ExecuteTime": {
     "end_time": "2024-09-29T05:44:29.799078Z",
     "start_time": "2024-09-29T05:44:24.599208Z"
    }
   },
   "cell_type": "code",
   "source": [
    "import pandas as pd\n",
    "from benchmol.feature_extraction import ImageFeatureExtractor\n",
    "from benchmol.model_pools.image_factory import ImageModelFactory\n",
    "from benchmol.utils.public_utils import setup_device\n",
    "from benchmol.dataloader.image_dataset import get_image_path_list"
   ],
   "id": "939ef05ee6540ea4",
   "outputs": [],
   "execution_count": 1
  },
  {
   "metadata": {
    "ExecuteTime": {
     "end_time": "2024-09-29T05:44:29.949132Z",
     "start_time": "2024-09-29T05:44:29.801563Z"
    }
   },
   "cell_type": "code",
   "source": [
    "model_config = {\n",
    "    \"name\": \"ImageMol\",\n",
    "    \"model_name\": \"resnet18\",\n",
    "    \"data_type\": \"image_2\",\n",
    "    \"pratrain_path\": \"../checkpoints/pretrained-image/ImageMol.pth.tar\",\n",
    "    \"pratrain_model_key\": \"state_dict\"\n",
    "}\n",
    "device, device_ids = setup_device(1)\n",
    "device = \"cpu\""
   ],
   "id": "24c4aa671321ea5",
   "outputs": [],
   "execution_count": 2
  },
  {
   "metadata": {
    "ExecuteTime": {
     "end_time": "2024-09-29T05:44:29.966799Z",
     "start_time": "2024-09-29T05:44:29.951546Z"
    }
   },
   "cell_type": "code",
   "source": [
    "model_name = model_config[\"model_name\"]\n",
    "data_type = model_config[\"data_type\"]\n",
    "pratrain_path = model_config[\"pratrain_path\"]\n",
    "pratrain_model_key = model_config[\"pratrain_model_key\"]\n",
    "\n",
    "root = \"../datasets/toys\"\n",
    "dataset = \"CHEMBL4419606_IC50_nM\"\n",
    "csv_path = f\"{root}/{dataset}/processed/{dataset}_processed_ac.csv\"\n",
    "df = pd.read_csv(csv_path)\n",
    "index_list = df[\"index\"].tolist()\n",
    "image_path_list = get_image_path_list(root=f\"{root}/{dataset}/processed\", data_type=data_type, index_list=index_list)"
   ],
   "id": "d447c8b7bcb611ef",
   "outputs": [],
   "execution_count": 3
  },
  {
   "metadata": {
    "ExecuteTime": {
     "end_time": "2024-09-29T05:44:31.183946Z",
     "start_time": "2024-09-29T05:44:29.968960Z"
    }
   },
   "cell_type": "code",
   "source": [
    "model = ImageModelFactory(model_name=model_name, head_arch=\"none\", num_tasks=1).to(device)\n",
    "if pratrain_model_key is not None:\n",
    "    model.from_pretrained(pratrain_path, model_key=pratrain_model_key)\n",
    "\n",
    "feature_extractor = ImageFeatureExtractor(model, image_path_list, batch_size=32, device=device)\n",
    "feature_extractor.extract_features()\n",
    "features = feature_extractor.return_features()\n",
    "print(features.shape)"
   ],
   "id": "7c35824361f1a3b8",
   "outputs": [
    {
     "name": "stderr",
     "output_type": "stream",
     "text": [
      "extract features: 100%|██████████| 7/7 [00:01<00:00,  6.69it/s]"
     ]
    },
    {
     "name": "stdout",
     "output_type": "stream",
     "text": [
      "(207, 512)\n"
     ]
    },
    {
     "name": "stderr",
     "output_type": "stream",
     "text": [
      "\n"
     ]
    }
   ],
   "execution_count": 4
  },
  {
   "metadata": {},
   "cell_type": "code",
   "outputs": [],
   "execution_count": null,
   "source": "",
   "id": "c3bcbafd9be1cd2f"
  }
 ],
 "metadata": {
  "kernelspec": {
   "display_name": "Python 3",
   "language": "python",
   "name": "python3"
  },
  "language_info": {
   "codemirror_mode": {
    "name": "ipython",
    "version": 2
   },
   "file_extension": ".py",
   "mimetype": "text/x-python",
   "name": "python",
   "nbconvert_exporter": "python",
   "pygments_lexer": "ipython2",
   "version": "2.7.6"
  }
 },
 "nbformat": 4,
 "nbformat_minor": 5
}
