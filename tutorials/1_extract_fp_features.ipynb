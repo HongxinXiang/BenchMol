{
 "cells": [
  {
   "metadata": {},
   "cell_type": "markdown",
   "source": "# Demo: Extracting Molecular Fingerprints",
   "id": "f6df82efe4309ac5"
  },
  {
   "metadata": {
    "ExecuteTime": {
     "end_time": "2024-09-21T07:33:50.726730Z",
     "start_time": "2024-09-21T07:33:46.151439Z"
    }
   },
   "cell_type": "code",
   "source": [
    "from benchmol.feature_extraction import FingerprintExtractor\n",
    "\n",
    "fp_names = FingerprintExtractor.get_fp_names()\n",
    "print(f\"Support Fingerprints: {fp_names}\")"
   ],
   "id": "727e61e65556bccd",
   "outputs": [
    {
     "name": "stdout",
     "output_type": "stream",
     "text": [
      "Support Fingerprints: ['ecfp0_1024', 'ecfp2_1024', 'ecfp4_1024', 'ecfp6_1024', 'mcfp0_1024', 'mcfp2_1024', 'mcfp4_1024', 'mcfp6_1024', 'fcfp2_1024', 'fcfp4_1024', 'fcfp6_1024', 'hashap_1024', 'hashtt_1024', 'avalon_1024', 'rdk5_1024', 'rdk6_1024', 'rdk7_1024', 'atompair_1024', 'ecfp0_2048', 'ecfp2_2048', 'ecfp4_2048', 'ecfp6_2048', 'mcfp0_2048', 'mcfp2_2048', 'mcfp4_2048', 'mcfp6_2048', 'fcfp2_2048', 'fcfp4_2048', 'fcfp6_2048', 'hashap_2048', 'hashtt_2048', 'avalon_2048', 'rdk5_2048', 'rdk6_2048', 'rdk7_2048', 'atompair_2048', 'lecfp4', 'lecfp6', 'lfcfp4', 'lfcfp6', 'maccs', 'laval', 'rdkDes', 'tpatf', 'physchem']\n"
     ]
    }
   ],
   "execution_count": 1
  },
  {
   "metadata": {
    "ExecuteTime": {
     "end_time": "2024-09-21T07:33:51.848004Z",
     "start_time": "2024-09-21T07:33:51.826798Z"
    }
   },
   "cell_type": "code",
   "source": [
    "fp_name = \"ecfp0_1024\"\n",
    "smiles_list = [\n",
    "    \"CCCCCCCCCCCCNCC(F)(F)F\", \n",
    "    \"CCCCC/C=C\\C/C=C\\C/C=C\\C/C=C\\CCCNC(=O)NC(C)C\", \n",
    "    \"CCCNCCCNCCCCNCCCNCCC\"\n",
    "]\n",
    "\n",
    "feature_extractor = FingerprintExtractor(smiles_list, fp_name)\n",
    "feature_extractor.extract_features(norm=True)  # extracting fingerprints and normalizing\n",
    "fingerprints = feature_extractor.return_features()"
   ],
   "id": "8df696a6db0af05a",
   "outputs": [
    {
     "name": "stderr",
     "output_type": "stream",
     "text": [
      "100%|██████████| 3/3 [00:00<00:00, 506.09it/s]\n"
     ]
    }
   ],
   "execution_count": 2
  },
  {
   "metadata": {
    "ExecuteTime": {
     "end_time": "2024-09-21T07:33:52.862559Z",
     "start_time": "2024-09-21T07:33:52.859567Z"
    }
   },
   "cell_type": "code",
   "source": "print(fingerprints.shape)",
   "id": "f3fd8455d074b36",
   "outputs": [
    {
     "name": "stdout",
     "output_type": "stream",
     "text": [
      "(3, 2048)\n"
     ]
    }
   ],
   "execution_count": 3
  },
  {
   "metadata": {},
   "cell_type": "code",
   "outputs": [],
   "execution_count": null,
   "source": "",
   "id": "d6880d658e7d33f3"
  }
 ],
 "metadata": {
  "kernelspec": {
   "display_name": "Python 3",
   "language": "python",
   "name": "python3"
  },
  "language_info": {
   "codemirror_mode": {
    "name": "ipython",
    "version": 2
   },
   "file_extension": ".py",
   "mimetype": "text/x-python",
   "name": "python",
   "nbconvert_exporter": "python",
   "pygments_lexer": "ipython2",
   "version": "2.7.6"
  }
 },
 "nbformat": 4,
 "nbformat_minor": 5
}
