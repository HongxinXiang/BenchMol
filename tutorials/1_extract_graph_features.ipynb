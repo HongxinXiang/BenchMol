{
 "cells": [
  {
   "metadata": {},
   "cell_type": "markdown",
   "source": "# Demo: Extracting features from graph using GIN",
   "id": "b94ab7fe3cffc6f9"
  },
  {
   "metadata": {
    "ExecuteTime": {
     "end_time": "2024-09-21T09:39:22.666521Z",
     "start_time": "2024-09-21T09:39:17.393892Z"
    }
   },
   "cell_type": "code",
   "source": [
    "import pandas as pd\n",
    "from benchmol.feature_extraction import GraphFeatureExtractor\n",
    "from benchmol.model_pools.graph_factory import GraphModelFactory\n",
    "from benchmol.utils.public_utils import setup_device"
   ],
   "id": "dd3d59721b91f665",
   "outputs": [],
   "execution_count": 1
  },
  {
   "metadata": {
    "ExecuteTime": {
     "end_time": "2024-09-21T09:39:22.734088Z",
     "start_time": "2024-09-21T09:39:22.669412Z"
    }
   },
   "cell_type": "code",
   "source": [
    "model_config = {\n",
    "    \"model_name\": \"GIN_RANDOM\",\n",
    "    \"graph_type\": \"jure\",\n",
    "    \"graph_feat\": \"full\",\n",
    "    \"pratrain_path\": None\n",
    "}\n",
    "device, device_ids = setup_device(1)"
   ],
   "id": "a7de380aa7c41541",
   "outputs": [],
   "execution_count": 2
  },
  {
   "metadata": {
    "ExecuteTime": {
     "end_time": "2024-09-21T09:39:22.739168Z",
     "start_time": "2024-09-21T09:39:22.735396Z"
    }
   },
   "cell_type": "code",
   "source": [
    "model_name = model_config[\"model_name\"]\n",
    "pretrain_gnn_path = model_config[\"pratrain_path\"]\n",
    "graph_feat = model_config[\"graph_feat\"]\n",
    "graph_type = model_config[\"graph_type\"]\n",
    "\n",
    "root = \"../datasets/toys\"\n",
    "dataset = \"CHEMBL4419606_IC50_nM\"\n",
    "graph_path = f\"{root}/{dataset}/processed/rdkit/geometric_3d_data_processed_{graph_type}_format.pt\"\n",
    "csv_path = f\"{root}/{dataset}/processed/{dataset}_processed_ac.csv\""
   ],
   "id": "5a64e335f279d508",
   "outputs": [],
   "execution_count": 3
  },
  {
   "metadata": {
    "ExecuteTime": {
     "end_time": "2024-09-21T09:39:50.470135Z",
     "start_time": "2024-09-21T09:39:22.740742Z"
    }
   },
   "cell_type": "code",
   "source": [
    "model = GraphModelFactory(model_name=model_name, head_arch=\"none\", num_tasks=1, pretrain_gnn_path=pretrain_gnn_path).to(device)\n",
    "df = pd.read_csv(csv_path)\n",
    "\n",
    "feature_extractor = GraphFeatureExtractor(model, graph_path, graph_feat=graph_feat, device=device)\n",
    "feature_extractor.extract_features()\n",
    "features = feature_extractor.return_features()\n",
    "print(features.shape)"
   ],
   "id": "6bea14a66810c960",
   "outputs": [
    {
     "name": "stderr",
     "output_type": "stream",
     "text": [
      "extract features: 100%|██████████| 26/26 [00:17<00:00,  1.47it/s]"
     ]
    },
    {
     "name": "stdout",
     "output_type": "stream",
     "text": [
      "(207, 300)\n"
     ]
    },
    {
     "name": "stderr",
     "output_type": "stream",
     "text": [
      "\n"
     ]
    }
   ],
   "execution_count": 4
  },
  {
   "metadata": {},
   "cell_type": "code",
   "outputs": [],
   "execution_count": null,
   "source": "",
   "id": "1c8870bcf7f300df"
  }
 ],
 "metadata": {
  "kernelspec": {
   "display_name": "Python 3",
   "language": "python",
   "name": "python3"
  },
  "language_info": {
   "codemirror_mode": {
    "name": "ipython",
    "version": 2
   },
   "file_extension": ".py",
   "mimetype": "text/x-python",
   "name": "python",
   "nbconvert_exporter": "python",
   "pygments_lexer": "ipython2",
   "version": "2.7.6"
  }
 },
 "nbformat": 4,
 "nbformat_minor": 5
}
