{
 "cells": [
  {
   "metadata": {},
   "cell_type": "markdown",
   "source": "# Linear Probing Using Extracted Features with EdgePred",
   "id": "b360be7946f26d47"
  },
  {
   "metadata": {
    "ExecuteTime": {
     "end_time": "2024-09-29T12:32:38.023182Z",
     "start_time": "2024-09-29T12:32:32.698077Z"
    }
   },
   "cell_type": "code",
   "source": [
    "import numpy as np\n",
    "from torch import nn\n",
    "from torch.optim import Adam\n",
    "from benchmol.dataloader.feat_dataset import TrainValTestFromCSVFactory\n",
    "from benchmol.trainer import Trainer\n",
    "from benchmol.model_pools.base_utils import get_predictor"
   ],
   "id": "b31f80f32ee8ad28",
   "outputs": [],
   "execution_count": 1
  },
  {
   "metadata": {
    "ExecuteTime": {
     "end_time": "2024-09-29T12:41:31.917180Z",
     "start_time": "2024-09-29T12:32:44.244459Z"
    }
   },
   "cell_type": "code",
   "source": [
    "# Data\n",
    "feat_pkl_path = \"../datasets/toys/toxcast/processed/EdgePred.pkl\"  # features extracted by EdgePred\n",
    "csv_path = \"../datasets/toys/toxcast/processed/toxcast_processed_ac.csv\"\n",
    "n_feat, num_tasks = 300, 617\n",
    "device = \"cpu\"  # or cuda:0\n",
    "\n",
    "# Take the feature modality and classification task as an example\n",
    "modality = \"feature\"\n",
    "task_type = \"classification\"\n",
    "\n",
    "# define Model with arch3 MLP for n tasks\n",
    "model = get_predictor(arch=\"arch3\", in_features=n_feat, num_tasks=num_tasks)\n",
    "\n",
    "# define Dataset\n",
    "factory = TrainValTestFromCSVFactory(\n",
    "    csv_path, feat_pkl_path, task_type, y_column=\"label\", split_column=\"scaffold_split\",\n",
    "    batch_size=8, num_workers=8, pin_memory=True\n",
    ")\n",
    "train_loader, valid_loader, test_loader = factory.get_dataloader(split=\"train\"), factory.get_dataloader(split=\"valid\"), factory.get_dataloader(split=\"test\")\n",
    "\n",
    "# define Trainer\n",
    "trainer = Trainer(\n",
    "    model, modality, train_loader, valid_loader, test_loader, task_type,\n",
    "    criterion=nn.BCEWithLogitsLoss(reduction=\"none\"), optimizer=Adam(model.parameters(), lr=0.001, weight_decay=1e-5), \n",
    "    label_empty=-1, device=device\n",
    ")\n",
    "\n",
    "# training and evaluation\n",
    "results = trainer.train(\n",
    "    num_epochs=10, eval_metric=\"ROCAUC\", valid_select=\"max\", min_value=-np.inf, dataset=\"toxcast\", \n",
    "    save_finetune_ckpt=True, save_dir=\"./experiments/\"\n",
    ")\n",
    "\n",
    "# Output model results\n",
    "print(\"results: {}\\n\".format(results))"
   ],
   "id": "84eb9b17fca8c9a5",
   "outputs": [
    {
     "name": "stderr",
     "output_type": "stream",
     "text": [
      "[train] dataset: toxcast; epoch: 0 total loss: 0.570: 100%|██████████| 858/858 [00:05<00:00, 150.27it/s]\n",
      "[eval on train set] dataset: toxcast; epoch: 0 total loss: 0.567: 100%|██████████| 858/858 [00:01<00:00, 487.82it/s]\n",
      "[eval on valid set] dataset: toxcast; epoch: 0 total loss: 0.476: 100%|██████████| 108/108 [00:00<00:00, 135.02it/s]\n",
      "[eval on test set] dataset: toxcast; epoch: 0:   0%|          | 0/108 [00:00<?, ?it/s]"
     ]
    },
    {
     "name": "stdout",
     "output_type": "stream",
     "text": [
      "Some target is missing! Missing ratio: 0.01 [610/617]\n"
     ]
    },
    {
     "name": "stderr",
     "output_type": "stream",
     "text": [
      "[eval on test set] dataset: toxcast; epoch: 0 total loss: 0.494: 100%|██████████| 108/108 [00:00<00:00, 141.05it/s]\n",
      "  0%|          | 0/858 [00:00<?, ?it/s]"
     ]
    },
    {
     "name": "stdout",
     "output_type": "stream",
     "text": [
      "Some target is missing! Missing ratio: 0.01 [610/617]\n",
      "{'dataset': 'toxcast', 'epoch': 0, 'Loss': 0.5666267377235394, 'metric': 'ROCAUC', 'train': 0.6702432400322601, 'valid': 0.5492058675004362, 'test': 0.524549900865828}\n",
      "model has been saved as ./experiments//valid_best.pth\n"
     ]
    },
    {
     "name": "stderr",
     "output_type": "stream",
     "text": [
      "[train] dataset: toxcast; epoch: 1 total loss: 0.392: 100%|██████████| 858/858 [00:02<00:00, 325.37it/s]\n",
      "[eval on train set] dataset: toxcast; epoch: 1 total loss: 0.356: 100%|██████████| 858/858 [00:02<00:00, 335.96it/s]\n",
      "[eval on valid set] dataset: toxcast; epoch: 1 total loss: 0.372: 100%|██████████| 108/108 [00:00<00:00, 152.81it/s]\n",
      "[eval on test set] dataset: toxcast; epoch: 1:   0%|          | 0/108 [00:00<?, ?it/s]"
     ]
    },
    {
     "name": "stdout",
     "output_type": "stream",
     "text": [
      "Some target is missing! Missing ratio: 0.01 [610/617]\n"
     ]
    },
    {
     "name": "stderr",
     "output_type": "stream",
     "text": [
      "[eval on test set] dataset: toxcast; epoch: 1 total loss: 0.398: 100%|██████████| 108/108 [00:00<00:00, 149.21it/s]\n",
      "  0%|          | 0/858 [00:00<?, ?it/s]"
     ]
    },
    {
     "name": "stdout",
     "output_type": "stream",
     "text": [
      "Some target is missing! Missing ratio: 0.01 [610/617]\n",
      "{'dataset': 'toxcast', 'epoch': 1, 'Loss': 0.35581817271270394, 'metric': 'ROCAUC', 'train': 0.6860053472650769, 'valid': 0.5580567861350569, 'test': 0.5330715364122453}\n",
      "model has been saved as ./experiments//valid_best.pth\n"
     ]
    },
    {
     "name": "stderr",
     "output_type": "stream",
     "text": [
      "[train] dataset: toxcast; epoch: 2 total loss: 0.324: 100%|██████████| 858/858 [00:02<00:00, 317.86it/s]\n",
      "[eval on train set] dataset: toxcast; epoch: 2 total loss: 0.274: 100%|██████████| 858/858 [00:02<00:00, 354.43it/s]\n",
      "[eval on valid set] dataset: toxcast; epoch: 2 total loss: 0.323: 100%|██████████| 108/108 [00:01<00:00, 93.26it/s]\n",
      "[eval on test set] dataset: toxcast; epoch: 2:   0%|          | 0/108 [00:00<?, ?it/s]"
     ]
    },
    {
     "name": "stdout",
     "output_type": "stream",
     "text": [
      "Some target is missing! Missing ratio: 0.01 [610/617]\n"
     ]
    },
    {
     "name": "stderr",
     "output_type": "stream",
     "text": [
      "[eval on test set] dataset: toxcast; epoch: 2 total loss: 0.353: 100%|██████████| 108/108 [00:00<00:00, 135.72it/s]\n",
      "  0%|          | 0/858 [00:00<?, ?it/s]"
     ]
    },
    {
     "name": "stdout",
     "output_type": "stream",
     "text": [
      "Some target is missing! Missing ratio: 0.01 [610/617]\n",
      "{'dataset': 'toxcast', 'epoch': 2, 'Loss': 0.27417207375550884, 'metric': 'ROCAUC', 'train': 0.6959876115554002, 'valid': 0.5598498818270679, 'test': 0.5385805732850703}\n",
      "model has been saved as ./experiments//valid_best.pth\n"
     ]
    },
    {
     "name": "stderr",
     "output_type": "stream",
     "text": [
      "[train] dataset: toxcast; epoch: 3 total loss: 0.272: 100%|██████████| 858/858 [00:02<00:00, 331.96it/s]\n",
      "[eval on train set] dataset: toxcast; epoch: 3 total loss: 0.270: 100%|██████████| 858/858 [00:02<00:00, 346.52it/s]\n",
      "[eval on valid set] dataset: toxcast; epoch: 3 total loss: 0.299: 100%|██████████| 108/108 [00:00<00:00, 114.42it/s]\n",
      "[eval on test set] dataset: toxcast; epoch: 3:   0%|          | 0/108 [00:00<?, ?it/s]"
     ]
    },
    {
     "name": "stdout",
     "output_type": "stream",
     "text": [
      "Some target is missing! Missing ratio: 0.01 [610/617]\n"
     ]
    },
    {
     "name": "stderr",
     "output_type": "stream",
     "text": [
      "[eval on test set] dataset: toxcast; epoch: 3 total loss: 0.330: 100%|██████████| 108/108 [00:00<00:00, 118.66it/s]\n",
      "  0%|          | 0/858 [00:00<?, ?it/s]"
     ]
    },
    {
     "name": "stdout",
     "output_type": "stream",
     "text": [
      "Some target is missing! Missing ratio: 0.01 [610/617]\n",
      "{'dataset': 'toxcast', 'epoch': 3, 'Loss': 0.27049370967980585, 'metric': 'ROCAUC', 'train': 0.7039584773521083, 'valid': 0.5623088786568775, 'test': 0.5380729343636014}\n",
      "model has been saved as ./experiments//valid_best.pth\n"
     ]
    },
    {
     "name": "stderr",
     "output_type": "stream",
     "text": [
      "[train] dataset: toxcast; epoch: 4 total loss: 0.264: 100%|██████████| 858/858 [00:02<00:00, 330.73it/s]\n",
      "[eval on train set] dataset: toxcast; epoch: 4 total loss: 0.384: 100%|██████████| 858/858 [00:02<00:00, 344.78it/s]\n",
      "[eval on valid set] dataset: toxcast; epoch: 4 total loss: 0.286: 100%|██████████| 108/108 [00:00<00:00, 130.21it/s]\n",
      "[eval on test set] dataset: toxcast; epoch: 4:   0%|          | 0/108 [00:00<?, ?it/s]"
     ]
    },
    {
     "name": "stdout",
     "output_type": "stream",
     "text": [
      "Some target is missing! Missing ratio: 0.01 [610/617]\n"
     ]
    },
    {
     "name": "stderr",
     "output_type": "stream",
     "text": [
      "[eval on test set] dataset: toxcast; epoch: 4 total loss: 0.319: 100%|██████████| 108/108 [00:00<00:00, 126.16it/s]\n",
      "  0%|          | 0/858 [00:00<?, ?it/s]"
     ]
    },
    {
     "name": "stdout",
     "output_type": "stream",
     "text": [
      "Some target is missing! Missing ratio: 0.01 [610/617]\n",
      "{'dataset': 'toxcast', 'epoch': 4, 'Loss': 0.3840466123638731, 'metric': 'ROCAUC', 'train': 0.7118933845293426, 'valid': 0.563530446798586, 'test': 0.5403093097607599}\n",
      "model has been saved as ./experiments//valid_best.pth\n"
     ]
    },
    {
     "name": "stderr",
     "output_type": "stream",
     "text": [
      "[train] dataset: toxcast; epoch: 5 total loss: 0.265: 100%|██████████| 858/858 [00:02<00:00, 390.01it/s]\n",
      "[eval on train set] dataset: toxcast; epoch: 5 total loss: 0.245: 100%|██████████| 858/858 [00:02<00:00, 368.98it/s]\n",
      "[eval on valid set] dataset: toxcast; epoch: 5 total loss: 0.279: 100%|██████████| 108/108 [00:00<00:00, 128.73it/s]\n",
      "[eval on test set] dataset: toxcast; epoch: 5:   0%|          | 0/108 [00:00<?, ?it/s]"
     ]
    },
    {
     "name": "stdout",
     "output_type": "stream",
     "text": [
      "Some target is missing! Missing ratio: 0.01 [610/617]\n"
     ]
    },
    {
     "name": "stderr",
     "output_type": "stream",
     "text": [
      "[eval on test set] dataset: toxcast; epoch: 5 total loss: 0.313: 100%|██████████| 108/108 [00:00<00:00, 129.77it/s]\n",
      "  0%|          | 0/858 [00:00<?, ?it/s]"
     ]
    },
    {
     "name": "stdout",
     "output_type": "stream",
     "text": [
      "Some target is missing! Missing ratio: 0.01 [610/617]\n",
      "{'dataset': 'toxcast', 'epoch': 5, 'Loss': 0.24518851967124672, 'metric': 'ROCAUC', 'train': 0.7200329220929907, 'valid': 0.5674412154189835, 'test': 0.5405272610319071}\n",
      "model has been saved as ./experiments//valid_best.pth\n"
     ]
    },
    {
     "name": "stderr",
     "output_type": "stream",
     "text": [
      "[train] dataset: toxcast; epoch: 6 total loss: 0.254: 100%|██████████| 858/858 [00:02<00:00, 328.39it/s]\n",
      "[eval on train set] dataset: toxcast; epoch: 6 total loss: 0.242: 100%|██████████| 858/858 [00:02<00:00, 313.42it/s]\n",
      "[eval on valid set] dataset: toxcast; epoch: 6 total loss: 0.276: 100%|██████████| 108/108 [00:05<00:00, 19.38it/s]\n",
      "[eval on test set] dataset: toxcast; epoch: 6:   0%|          | 0/108 [00:00<?, ?it/s]"
     ]
    },
    {
     "name": "stdout",
     "output_type": "stream",
     "text": [
      "Some target is missing! Missing ratio: 0.01 [610/617]\n"
     ]
    },
    {
     "name": "stderr",
     "output_type": "stream",
     "text": [
      "[eval on test set] dataset: toxcast; epoch: 6 total loss: 0.309: 100%|██████████| 108/108 [00:05<00:00, 19.21it/s]\n",
      "  0%|          | 0/858 [00:00<?, ?it/s]"
     ]
    },
    {
     "name": "stdout",
     "output_type": "stream",
     "text": [
      "Some target is missing! Missing ratio: 0.01 [610/617]\n",
      "{'dataset': 'toxcast', 'epoch': 6, 'Loss': 0.24181629172016134, 'metric': 'ROCAUC', 'train': 0.7258804422994105, 'valid': 0.5694439250077379, 'test': 0.5415806791683212}\n",
      "model has been saved as ./experiments//valid_best.pth\n"
     ]
    },
    {
     "name": "stderr",
     "output_type": "stream",
     "text": [
      "[train] dataset: toxcast; epoch: 7 total loss: 0.252: 100%|██████████| 858/858 [00:20<00:00, 42.10it/s] \n",
      "[eval on train set] dataset: toxcast; epoch: 7 total loss: 0.264: 100%|██████████| 858/858 [00:14<00:00, 60.40it/s] \n",
      "[eval on valid set] dataset: toxcast; epoch: 7 total loss: 0.273: 100%|██████████| 108/108 [00:03<00:00, 30.00it/s]\n",
      "[eval on test set] dataset: toxcast; epoch: 7:   0%|          | 0/108 [00:00<?, ?it/s]"
     ]
    },
    {
     "name": "stdout",
     "output_type": "stream",
     "text": [
      "Some target is missing! Missing ratio: 0.01 [610/617]\n"
     ]
    },
    {
     "name": "stderr",
     "output_type": "stream",
     "text": [
      "[eval on test set] dataset: toxcast; epoch: 7 total loss: 0.308: 100%|██████████| 108/108 [00:04<00:00, 22.41it/s]\n",
      "  0%|          | 0/858 [00:00<?, ?it/s]"
     ]
    },
    {
     "name": "stdout",
     "output_type": "stream",
     "text": [
      "Some target is missing! Missing ratio: 0.01 [610/617]\n",
      "{'dataset': 'toxcast', 'epoch': 7, 'Loss': 0.2635254759888549, 'metric': 'ROCAUC', 'train': 0.7299309522798388, 'valid': 0.5692742668894935, 'test': 0.5436785123890283}\n"
     ]
    },
    {
     "name": "stderr",
     "output_type": "stream",
     "text": [
      "[train] dataset: toxcast; epoch: 8 total loss: 0.252: 100%|██████████| 858/858 [00:30<00:00, 27.77it/s] \n",
      "[eval on train set] dataset: toxcast; epoch: 8 total loss: 0.244: 100%|██████████| 858/858 [00:12<00:00, 70.28it/s] \n",
      "[eval on valid set] dataset: toxcast; epoch: 8 total loss: 0.272: 100%|██████████| 108/108 [00:05<00:00, 20.92it/s]\n",
      "[eval on test set] dataset: toxcast; epoch: 8:   0%|          | 0/108 [00:00<?, ?it/s]"
     ]
    },
    {
     "name": "stdout",
     "output_type": "stream",
     "text": [
      "Some target is missing! Missing ratio: 0.01 [610/617]\n"
     ]
    },
    {
     "name": "stderr",
     "output_type": "stream",
     "text": [
      "[eval on test set] dataset: toxcast; epoch: 8 total loss: 0.307: 100%|██████████| 108/108 [00:04<00:00, 22.81it/s]\n",
      "  0%|          | 0/858 [00:00<?, ?it/s]"
     ]
    },
    {
     "name": "stdout",
     "output_type": "stream",
     "text": [
      "Some target is missing! Missing ratio: 0.01 [610/617]\n",
      "{'dataset': 'toxcast', 'epoch': 8, 'Loss': 0.24352465365038609, 'metric': 'ROCAUC', 'train': 0.7342290161684275, 'valid': 0.5683418261234248, 'test': 0.5444607985955275}\n"
     ]
    },
    {
     "name": "stderr",
     "output_type": "stream",
     "text": [
      "[train] dataset: toxcast; epoch: 9 total loss: 0.240: 100%|██████████| 858/858 [02:13<00:00,  6.43it/s]\n",
      "[eval on train set] dataset: toxcast; epoch: 9 total loss: 0.237: 100%|██████████| 858/858 [00:44<00:00, 19.40it/s]\n",
      "[eval on valid set] dataset: toxcast; epoch: 9 total loss: 0.272: 100%|██████████| 108/108 [00:06<00:00, 15.93it/s]\n",
      "[eval on test set] dataset: toxcast; epoch: 9:   0%|          | 0/108 [00:00<?, ?it/s]"
     ]
    },
    {
     "name": "stdout",
     "output_type": "stream",
     "text": [
      "Some target is missing! Missing ratio: 0.01 [610/617]\n"
     ]
    },
    {
     "name": "stderr",
     "output_type": "stream",
     "text": [
      "[eval on test set] dataset: toxcast; epoch: 9 total loss: 0.306: 100%|██████████| 108/108 [00:07<00:00, 14.10it/s]\n"
     ]
    },
    {
     "name": "stdout",
     "output_type": "stream",
     "text": [
      "Some target is missing! Missing ratio: 0.01 [610/617]\n",
      "{'dataset': 'toxcast', 'epoch': 9, 'Loss': 0.23722279155171, 'metric': 'ROCAUC', 'train': 0.7375540053961169, 'valid': 0.572109682898607, 'test': 0.5467083229900723}\n",
      "model has been saved as ./experiments//valid_best.pth\n",
      "results: {'highest_valid': 0.572109682898607, 'final_train': 0.7375540053961169, 'final_test': 0.5467083229900723, 'highest_train': 0.7375540053961169}\n",
      "\n"
     ]
    }
   ],
   "execution_count": 2
  },
  {
   "metadata": {},
   "cell_type": "code",
   "outputs": [],
   "execution_count": null,
   "source": "",
   "id": "a3b64fd4fa06926b"
  }
 ],
 "metadata": {
  "kernelspec": {
   "display_name": "Python 3",
   "language": "python",
   "name": "python3"
  },
  "language_info": {
   "codemirror_mode": {
    "name": "ipython",
    "version": 2
   },
   "file_extension": ".py",
   "mimetype": "text/x-python",
   "name": "python",
   "nbconvert_exporter": "python",
   "pygments_lexer": "ipython2",
   "version": "2.7.6"
  }
 },
 "nbformat": 4,
 "nbformat_minor": 5
}
