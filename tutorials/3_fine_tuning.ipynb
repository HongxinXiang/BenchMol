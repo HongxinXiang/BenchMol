{
 "cells": [
  {
   "metadata": {},
   "cell_type": "markdown",
   "source": "# Demo: Fine-tuning with Image Modality for Regression Task",
   "id": "1daa77744b3bd93a"
  },
  {
   "metadata": {
    "ExecuteTime": {
     "end_time": "2024-09-29T12:54:29.395261Z",
     "start_time": "2024-09-29T12:54:24.490761Z"
    }
   },
   "cell_type": "code",
   "source": [
    "import numpy as np\n",
    "from torch import nn\n",
    "from torch.optim import Adam\n",
    "from benchmol.dataloader.image_dataset import TrainValTestFromCSVFactory\n",
    "from benchmol.trainer import Trainer\n",
    "from benchmol.model_pools import ImageModelFactory"
   ],
   "id": "b9e83ca92e9c49b4",
   "outputs": [],
   "execution_count": 1
  },
  {
   "metadata": {
    "ExecuteTime": {
     "end_time": "2024-09-29T13:03:04.937477Z",
     "start_time": "2024-09-29T12:54:30.969725Z"
    }
   },
   "cell_type": "code",
   "source": [
    "# Data\n",
    "dataroot = \"../datasets/toys/CHEMBL4419606_IC50_nM/processed\"\n",
    "csv_path = \"../datasets/toys/CHEMBL4419606_IC50_nM/processed/CHEMBL4419606_IC50_nM_processed_ac.csv\"\n",
    "data_type = \"image_2\"\n",
    "num_tasks = 1\n",
    "device = \"cpu\"  # or cuda:0\n",
    "\n",
    "# Take the image modality and regression task as an example\n",
    "modality=\"image\"\n",
    "task_type = \"regression\"\n",
    "\n",
    "# define Model with backbone as ViT and neck as arch4 for n tasks\n",
    "model = ImageModelFactory(\n",
    "    model_name=\"vit_small_patch16_224\", head_arch=\"arch4\",\n",
    "    head_arch_params={\"inner_dim\": 128, \"dropout\": 0.2, \"activation_fn\": \"gelu\"}, num_tasks=num_tasks\n",
    ")\n",
    "# define Dataset\n",
    "factory = TrainValTestFromCSVFactory(\n",
    "    dataroot, csv_path, data_type=data_type, image_dir_name=\"image\", task_type=task_type,\n",
    "    batch_size=32, num_workers=8\n",
    ")\n",
    "train_loader, valid_loader, test_loader = factory.get_dataloader(split=\"train\"), factory.get_dataloader(split=\"valid\"), factory.get_dataloader(split=\"test\")\n",
    "\n",
    "# define Trainer\n",
    "trainer = Trainer(\n",
    "model, modality, train_loader, valid_loader, test_loader, task_type,\n",
    "    criterion=nn.MSELoss(), optimizer=Adam(model.parameters(), lr=0.005, weight_decay=1e-5), device=device\n",
    ")\n",
    "\n",
    "# training and evaluation\n",
    "results = trainer.train(\n",
    "    num_epochs=20, eval_metric=\"RMSE\", valid_select=\"min\", min_value=np.inf, dataset=\"CHEMBL4419606_IC50_nM\", \n",
    "    save_finetune_ckpt=True, save_dir=\"./experiments/\"\n",
    ")\n",
    "\n",
    "# Output model results\n",
    "print(\"results: {}\\n\".format(results))"
   ],
   "id": "5f255c177dc43ae5",
   "outputs": [
    {
     "name": "stderr",
     "output_type": "stream",
     "text": [
      "  0%|          | 0/4 [00:00<?, ?it/s]"
     ]
    },
    {
     "name": "stdout",
     "output_type": "stream",
     "text": [
      "[split=train] use transform\n",
      "[train] split_image_path_list[0]: ../datasets/toys/CHEMBL4419606_IC50_nM/processed/image/9886677/9886677.png\n",
      "[split=valid] use eval_transform\n",
      "[split=test] use eval_transform\n"
     ]
    },
    {
     "name": "stderr",
     "output_type": "stream",
     "text": [
      "[train] dataset: CHEMBL4419606_IC50_nM; epoch: 0 total loss: 14.312: 100%|██████████| 4/4 [00:20<00:00,  5.03s/it]\n",
      "[eval on train set] dataset: CHEMBL4419606_IC50_nM; epoch: 0 total loss: 0.610: 100%|██████████| 4/4 [00:03<00:00,  1.10it/s]\n",
      "[eval on valid set] dataset: CHEMBL4419606_IC50_nM; epoch: 0 total loss: 1.867: 100%|██████████| 2/2 [00:02<00:00,  1.03s/it]\n",
      "[eval on test set] dataset: CHEMBL4419606_IC50_nM; epoch: 0 total loss: 1.346: 100%|██████████| 2/2 [00:02<00:00,  1.10s/it]\n"
     ]
    },
    {
     "name": "stdout",
     "output_type": "stream",
     "text": [
      "{'dataset': 'CHEMBL4419606_IC50_nM', 'epoch': 0, 'Loss': 0.6095912456512451, 'metric': 'RMSE', 'train': 0.7826803741869909, 'valid': 1.4351848982793594, 'test': 1.0169907795079076}\n"
     ]
    },
    {
     "name": "stderr",
     "output_type": "stream",
     "text": [
      "  0%|          | 0/4 [00:00<?, ?it/s]"
     ]
    },
    {
     "name": "stdout",
     "output_type": "stream",
     "text": [
      "model has been saved as ./experiments//valid_best.pth\n"
     ]
    },
    {
     "name": "stderr",
     "output_type": "stream",
     "text": [
      "[train] dataset: CHEMBL4419606_IC50_nM; epoch: 1 total loss: 0.827: 100%|██████████| 4/4 [00:16<00:00,  4.23s/it]\n",
      "[eval on train set] dataset: CHEMBL4419606_IC50_nM; epoch: 1 total loss: 0.440: 100%|██████████| 4/4 [00:03<00:00,  1.10it/s]\n",
      "[eval on valid set] dataset: CHEMBL4419606_IC50_nM; epoch: 1 total loss: 1.322: 100%|██████████| 2/2 [00:01<00:00,  1.03it/s]\n",
      "[eval on test set] dataset: CHEMBL4419606_IC50_nM; epoch: 1 total loss: 0.858: 100%|██████████| 2/2 [00:01<00:00,  1.06it/s]\n"
     ]
    },
    {
     "name": "stdout",
     "output_type": "stream",
     "text": [
      "{'dataset': 'CHEMBL4419606_IC50_nM', 'epoch': 1, 'Loss': 0.44019508361816406, 'metric': 'RMSE', 'train': 0.6602035973672241, 'valid': 1.077514305553847, 'test': 0.9044135192862203}\n"
     ]
    },
    {
     "name": "stderr",
     "output_type": "stream",
     "text": [
      "  0%|          | 0/4 [00:00<?, ?it/s]"
     ]
    },
    {
     "name": "stdout",
     "output_type": "stream",
     "text": [
      "model has been saved as ./experiments//valid_best.pth\n"
     ]
    },
    {
     "name": "stderr",
     "output_type": "stream",
     "text": [
      "[train] dataset: CHEMBL4419606_IC50_nM; epoch: 2 total loss: 0.544: 100%|██████████| 4/4 [00:17<00:00,  4.29s/it]\n",
      "[eval on train set] dataset: CHEMBL4419606_IC50_nM; epoch: 2 total loss: 0.410: 100%|██████████| 4/4 [00:03<00:00,  1.17it/s]\n",
      "[eval on valid set] dataset: CHEMBL4419606_IC50_nM; epoch: 2 total loss: 1.494: 100%|██████████| 2/2 [00:02<00:00,  1.08s/it]\n",
      "[eval on test set] dataset: CHEMBL4419606_IC50_nM; epoch: 2 total loss: 1.009: 100%|██████████| 2/2 [00:01<00:00,  1.03it/s]\n",
      "  0%|          | 0/4 [00:00<?, ?it/s]"
     ]
    },
    {
     "name": "stdout",
     "output_type": "stream",
     "text": [
      "{'dataset': 'CHEMBL4419606_IC50_nM', 'epoch': 2, 'Loss': 0.4096728563308716, 'metric': 'RMSE', 'train': 0.6375715554582408, 'valid': 1.2403051532179044, 'test': 0.9012503802116788}\n"
     ]
    },
    {
     "name": "stderr",
     "output_type": "stream",
     "text": [
      "[train] dataset: CHEMBL4419606_IC50_nM; epoch: 3 total loss: 0.589: 100%|██████████| 4/4 [00:18<00:00,  4.74s/it]\n",
      "[eval on train set] dataset: CHEMBL4419606_IC50_nM; epoch: 3 total loss: 0.444: 100%|██████████| 4/4 [00:03<00:00,  1.09it/s]\n",
      "[eval on valid set] dataset: CHEMBL4419606_IC50_nM; epoch: 3 total loss: 1.320: 100%|██████████| 2/2 [00:02<00:00,  1.01s/it]\n",
      "[eval on test set] dataset: CHEMBL4419606_IC50_nM; epoch: 3 total loss: 0.861: 100%|██████████| 2/2 [00:01<00:00,  1.05it/s]\n"
     ]
    },
    {
     "name": "stdout",
     "output_type": "stream",
     "text": [
      "{'dataset': 'CHEMBL4419606_IC50_nM', 'epoch': 3, 'Loss': 0.443662166595459, 'metric': 'RMSE', 'train': 0.6704765814467729, 'valid': 1.071518941351344, 'test': 0.9089380199236793}\n"
     ]
    },
    {
     "name": "stderr",
     "output_type": "stream",
     "text": [
      "  0%|          | 0/4 [00:00<?, ?it/s]"
     ]
    },
    {
     "name": "stdout",
     "output_type": "stream",
     "text": [
      "model has been saved as ./experiments//valid_best.pth\n"
     ]
    },
    {
     "name": "stderr",
     "output_type": "stream",
     "text": [
      "[train] dataset: CHEMBL4419606_IC50_nM; epoch: 4 total loss: 0.557: 100%|██████████| 4/4 [00:17<00:00,  4.41s/it]\n",
      "[eval on train set] dataset: CHEMBL4419606_IC50_nM; epoch: 4 total loss: 0.392: 100%|██████████| 4/4 [00:03<00:00,  1.24it/s]\n",
      "[eval on valid set] dataset: CHEMBL4419606_IC50_nM; epoch: 4 total loss: 1.468: 100%|██████████| 2/2 [00:02<00:00,  1.07s/it]\n",
      "[eval on test set] dataset: CHEMBL4419606_IC50_nM; epoch: 4 total loss: 0.991: 100%|██████████| 2/2 [00:01<00:00,  1.07it/s]\n",
      "  0%|          | 0/4 [00:00<?, ?it/s]"
     ]
    },
    {
     "name": "stdout",
     "output_type": "stream",
     "text": [
      "{'dataset': 'CHEMBL4419606_IC50_nM', 'epoch': 4, 'Loss': 0.3924129009246826, 'metric': 'RMSE', 'train': 0.6291129186814368, 'valid': 1.2221844724266362, 'test': 0.8959547151765521}\n"
     ]
    },
    {
     "name": "stderr",
     "output_type": "stream",
     "text": [
      "[train] dataset: CHEMBL4419606_IC50_nM; epoch: 5 total loss: 0.500: 100%|██████████| 4/4 [00:16<00:00,  4.19s/it]\n",
      "[eval on train set] dataset: CHEMBL4419606_IC50_nM; epoch: 5 total loss: 0.426: 100%|██████████| 4/4 [00:03<00:00,  1.25it/s]\n",
      "[eval on valid set] dataset: CHEMBL4419606_IC50_nM; epoch: 5 total loss: 1.322: 100%|██████████| 2/2 [00:01<00:00,  1.03it/s]\n",
      "[eval on test set] dataset: CHEMBL4419606_IC50_nM; epoch: 5 total loss: 0.860: 100%|██████████| 2/2 [00:01<00:00,  1.11it/s]\n",
      "  0%|          | 0/4 [00:00<?, ?it/s]"
     ]
    },
    {
     "name": "stdout",
     "output_type": "stream",
     "text": [
      "{'dataset': 'CHEMBL4419606_IC50_nM', 'epoch': 5, 'Loss': 0.42607423663139343, 'metric': 'RMSE', 'train': 0.6522474686013338, 'valid': 1.082935873985373, 'test': 0.8981927504899556}\n"
     ]
    },
    {
     "name": "stderr",
     "output_type": "stream",
     "text": [
      "[train] dataset: CHEMBL4419606_IC50_nM; epoch: 6 total loss: 0.513: 100%|██████████| 4/4 [00:18<00:00,  4.69s/it]\n",
      "[eval on train set] dataset: CHEMBL4419606_IC50_nM; epoch: 6 total loss: 0.377: 100%|██████████| 4/4 [00:03<00:00,  1.15it/s]\n",
      "[eval on valid set] dataset: CHEMBL4419606_IC50_nM; epoch: 6 total loss: 1.357: 100%|██████████| 2/2 [00:01<00:00,  1.02it/s]\n",
      "[eval on test set] dataset: CHEMBL4419606_IC50_nM; epoch: 6 total loss: 0.881: 100%|██████████| 2/2 [00:01<00:00,  1.09it/s]\n",
      "  0%|          | 0/4 [00:00<?, ?it/s]"
     ]
    },
    {
     "name": "stdout",
     "output_type": "stream",
     "text": [
      "{'dataset': 'CHEMBL4419606_IC50_nM', 'epoch': 6, 'Loss': 0.3767467737197876, 'metric': 'RMSE', 'train': 0.6170085936959224, 'valid': 1.1356520259560745, 'test': 0.8765021133267655}\n"
     ]
    },
    {
     "name": "stderr",
     "output_type": "stream",
     "text": [
      "[train] dataset: CHEMBL4419606_IC50_nM; epoch: 7 total loss: 0.521: 100%|██████████| 4/4 [00:16<00:00,  4.25s/it]\n",
      "[eval on train set] dataset: CHEMBL4419606_IC50_nM; epoch: 7 total loss: 0.378: 100%|██████████| 4/4 [00:03<00:00,  1.20it/s]\n",
      "[eval on valid set] dataset: CHEMBL4419606_IC50_nM; epoch: 7 total loss: 1.367: 100%|██████████| 2/2 [00:01<00:00,  1.06it/s]\n",
      "[eval on test set] dataset: CHEMBL4419606_IC50_nM; epoch: 7 total loss: 0.896: 100%|██████████| 2/2 [00:01<00:00,  1.03it/s]\n",
      "  0%|          | 0/4 [00:00<?, ?it/s]"
     ]
    },
    {
     "name": "stdout",
     "output_type": "stream",
     "text": [
      "{'dataset': 'CHEMBL4419606_IC50_nM', 'epoch': 7, 'Loss': 0.3784729838371277, 'metric': 'RMSE', 'train': 0.6144244852484844, 'valid': 1.1475875620795049, 'test': 0.8782419047754354}\n"
     ]
    },
    {
     "name": "stderr",
     "output_type": "stream",
     "text": [
      "[train] dataset: CHEMBL4419606_IC50_nM; epoch: 8 total loss: 0.530: 100%|██████████| 4/4 [00:17<00:00,  4.38s/it]\n",
      "[eval on train set] dataset: CHEMBL4419606_IC50_nM; epoch: 8 total loss: 0.386: 100%|██████████| 4/4 [00:03<00:00,  1.12it/s]\n",
      "[eval on valid set] dataset: CHEMBL4419606_IC50_nM; epoch: 8 total loss: 1.441: 100%|██████████| 2/2 [00:01<00:00,  1.03it/s]\n",
      "[eval on test set] dataset: CHEMBL4419606_IC50_nM; epoch: 8 total loss: 0.967: 100%|██████████| 2/2 [00:01<00:00,  1.03it/s]\n",
      "  0%|          | 0/4 [00:00<?, ?it/s]"
     ]
    },
    {
     "name": "stdout",
     "output_type": "stream",
     "text": [
      "{'dataset': 'CHEMBL4419606_IC50_nM', 'epoch': 8, 'Loss': 0.3861981928348541, 'metric': 'RMSE', 'train': 0.6239128066950673, 'valid': 1.2097085445200388, 'test': 0.8901736449665565}\n"
     ]
    },
    {
     "name": "stderr",
     "output_type": "stream",
     "text": [
      "[train] dataset: CHEMBL4419606_IC50_nM; epoch: 9 total loss: 0.490: 100%|██████████| 4/4 [00:17<00:00,  4.42s/it]\n",
      "[eval on train set] dataset: CHEMBL4419606_IC50_nM; epoch: 9 total loss: 0.397: 100%|██████████| 4/4 [00:03<00:00,  1.21it/s]\n",
      "[eval on valid set] dataset: CHEMBL4419606_IC50_nM; epoch: 9 total loss: 1.331: 100%|██████████| 2/2 [00:02<00:00,  1.01s/it]\n",
      "[eval on test set] dataset: CHEMBL4419606_IC50_nM; epoch: 9 total loss: 0.866: 100%|██████████| 2/2 [00:01<00:00,  1.06it/s]\n",
      "  0%|          | 0/4 [00:00<?, ?it/s]"
     ]
    },
    {
     "name": "stdout",
     "output_type": "stream",
     "text": [
      "{'dataset': 'CHEMBL4419606_IC50_nM', 'epoch': 9, 'Loss': 0.3971542716026306, 'metric': 'RMSE', 'train': 0.6304558888191512, 'valid': 1.1053599134296894, 'test': 0.8866637272751279}\n"
     ]
    },
    {
     "name": "stderr",
     "output_type": "stream",
     "text": [
      "[train] dataset: CHEMBL4419606_IC50_nM; epoch: 10 total loss: 0.509: 100%|██████████| 4/4 [00:16<00:00,  4.00s/it]\n",
      "[eval on train set] dataset: CHEMBL4419606_IC50_nM; epoch: 10 total loss: 0.381: 100%|██████████| 4/4 [00:03<00:00,  1.20it/s]\n",
      "[eval on valid set] dataset: CHEMBL4419606_IC50_nM; epoch: 10 total loss: 1.394: 100%|██████████| 2/2 [00:02<00:00,  1.01s/it]\n",
      "[eval on test set] dataset: CHEMBL4419606_IC50_nM; epoch: 10 total loss: 0.920: 100%|██████████| 2/2 [00:02<00:00,  1.04s/it]\n",
      "  0%|          | 0/4 [00:00<?, ?it/s]"
     ]
    },
    {
     "name": "stdout",
     "output_type": "stream",
     "text": [
      "{'dataset': 'CHEMBL4419606_IC50_nM', 'epoch': 10, 'Loss': 0.38123494386672974, 'metric': 'RMSE', 'train': 0.61553377138136, 'valid': 1.1709688949810435, 'test': 0.8799072383419684}\n"
     ]
    },
    {
     "name": "stderr",
     "output_type": "stream",
     "text": [
      "[train] dataset: CHEMBL4419606_IC50_nM; epoch: 11 total loss: 0.469: 100%|██████████| 4/4 [00:19<00:00,  4.88s/it]\n",
      "[eval on train set] dataset: CHEMBL4419606_IC50_nM; epoch: 11 total loss: 0.409: 100%|██████████| 4/4 [00:03<00:00,  1.22it/s]\n",
      "[eval on valid set] dataset: CHEMBL4419606_IC50_nM; epoch: 11 total loss: 1.324: 100%|██████████| 2/2 [00:02<00:00,  1.00s/it]\n",
      "[eval on test set] dataset: CHEMBL4419606_IC50_nM; epoch: 11 total loss: 0.860: 100%|██████████| 2/2 [00:01<00:00,  1.09it/s]\n",
      "  0%|          | 0/4 [00:00<?, ?it/s]"
     ]
    },
    {
     "name": "stdout",
     "output_type": "stream",
     "text": [
      "{'dataset': 'CHEMBL4419606_IC50_nM', 'epoch': 11, 'Loss': 0.40908151865005493, 'metric': 'RMSE', 'train': 0.6377746363410587, 'valid': 1.0941009431105575, 'test': 0.8901934726324099}\n"
     ]
    },
    {
     "name": "stderr",
     "output_type": "stream",
     "text": [
      "[train] dataset: CHEMBL4419606_IC50_nM; epoch: 12 total loss: 0.552: 100%|██████████| 4/4 [00:18<00:00,  4.67s/it]\n",
      "[eval on train set] dataset: CHEMBL4419606_IC50_nM; epoch: 12 total loss: 0.378: 100%|██████████| 4/4 [00:03<00:00,  1.20it/s]\n",
      "[eval on valid set] dataset: CHEMBL4419606_IC50_nM; epoch: 12 total loss: 1.382: 100%|██████████| 2/2 [00:02<00:00,  1.17s/it]\n",
      "[eval on test set] dataset: CHEMBL4419606_IC50_nM; epoch: 12 total loss: 0.909: 100%|██████████| 2/2 [00:01<00:00,  1.06it/s]\n",
      "  0%|          | 0/4 [00:00<?, ?it/s]"
     ]
    },
    {
     "name": "stdout",
     "output_type": "stream",
     "text": [
      "{'dataset': 'CHEMBL4419606_IC50_nM', 'epoch': 12, 'Loss': 0.37845608592033386, 'metric': 'RMSE', 'train': 0.6148886825822979, 'valid': 1.1586713359696081, 'test': 0.8799513012085195}\n"
     ]
    },
    {
     "name": "stderr",
     "output_type": "stream",
     "text": [
      "[train] dataset: CHEMBL4419606_IC50_nM; epoch: 13 total loss: 0.465: 100%|██████████| 4/4 [00:27<00:00,  6.77s/it]\n",
      "[eval on train set] dataset: CHEMBL4419606_IC50_nM; epoch: 13 total loss: 0.394: 100%|██████████| 4/4 [00:03<00:00,  1.05it/s]\n",
      "[eval on valid set] dataset: CHEMBL4419606_IC50_nM; epoch: 13 total loss: 1.458: 100%|██████████| 2/2 [00:02<00:00,  1.25s/it]\n",
      "[eval on test set] dataset: CHEMBL4419606_IC50_nM; epoch: 13 total loss: 0.969: 100%|██████████| 2/2 [00:03<00:00,  1.96s/it]\n",
      "  0%|          | 0/4 [00:00<?, ?it/s]"
     ]
    },
    {
     "name": "stdout",
     "output_type": "stream",
     "text": [
      "{'dataset': 'CHEMBL4419606_IC50_nM', 'epoch': 13, 'Loss': 0.39418256282806396, 'metric': 'RMSE', 'train': 0.624943496797595, 'valid': 1.215377151531143, 'test': 0.8896646966973594}\n"
     ]
    },
    {
     "name": "stderr",
     "output_type": "stream",
     "text": [
      "[train] dataset: CHEMBL4419606_IC50_nM; epoch: 14 total loss: 0.491: 100%|██████████| 4/4 [00:15<00:00,  3.99s/it]\n",
      "[eval on train set] dataset: CHEMBL4419606_IC50_nM; epoch: 14 total loss: 0.456: 100%|██████████| 4/4 [00:03<00:00,  1.24it/s]\n",
      "[eval on valid set] dataset: CHEMBL4419606_IC50_nM; epoch: 14 total loss: 1.323: 100%|██████████| 2/2 [00:02<00:00,  1.05s/it]\n",
      "[eval on test set] dataset: CHEMBL4419606_IC50_nM; epoch: 14 total loss: 0.854: 100%|██████████| 2/2 [00:01<00:00,  1.05it/s]\n"
     ]
    },
    {
     "name": "stdout",
     "output_type": "stream",
     "text": [
      "{'dataset': 'CHEMBL4419606_IC50_nM', 'epoch': 14, 'Loss': 0.4562387466430664, 'metric': 'RMSE', 'train': 0.6737315742726779, 'valid': 1.0715022247674166, 'test': 0.9051248687427186}\n"
     ]
    },
    {
     "name": "stderr",
     "output_type": "stream",
     "text": [
      "  0%|          | 0/4 [00:00<?, ?it/s]"
     ]
    },
    {
     "name": "stdout",
     "output_type": "stream",
     "text": [
      "model has been saved as ./experiments//valid_best.pth\n"
     ]
    },
    {
     "name": "stderr",
     "output_type": "stream",
     "text": [
      "[train] dataset: CHEMBL4419606_IC50_nM; epoch: 15 total loss: 0.545: 100%|██████████| 4/4 [00:16<00:00,  4.01s/it]\n",
      "[eval on train set] dataset: CHEMBL4419606_IC50_nM; epoch: 15 total loss: 0.383: 100%|██████████| 4/4 [00:03<00:00,  1.15it/s]\n",
      "[eval on valid set] dataset: CHEMBL4419606_IC50_nM; epoch: 15 total loss: 1.442: 100%|██████████| 2/2 [00:02<00:00,  1.17s/it]\n",
      "[eval on test set] dataset: CHEMBL4419606_IC50_nM; epoch: 15 total loss: 0.939: 100%|██████████| 2/2 [00:01<00:00,  1.00it/s]\n",
      "  0%|          | 0/4 [00:00<?, ?it/s]"
     ]
    },
    {
     "name": "stdout",
     "output_type": "stream",
     "text": [
      "{'dataset': 'CHEMBL4419606_IC50_nM', 'epoch': 15, 'Loss': 0.3829073905944824, 'metric': 'RMSE', 'train': 0.6177972900865398, 'valid': 1.202419710359876, 'test': 0.876331397452848}\n"
     ]
    },
    {
     "name": "stderr",
     "output_type": "stream",
     "text": [
      "[train] dataset: CHEMBL4419606_IC50_nM; epoch: 16 total loss: 0.488: 100%|██████████| 4/4 [00:16<00:00,  4.01s/it]\n",
      "[eval on train set] dataset: CHEMBL4419606_IC50_nM; epoch: 16 total loss: 0.391: 100%|██████████| 4/4 [00:03<00:00,  1.14it/s]\n",
      "[eval on valid set] dataset: CHEMBL4419606_IC50_nM; epoch: 16 total loss: 1.328: 100%|██████████| 2/2 [00:01<00:00,  1.01it/s]\n",
      "[eval on test set] dataset: CHEMBL4419606_IC50_nM; epoch: 16 total loss: 0.846: 100%|██████████| 2/2 [00:01<00:00,  1.11it/s]\n",
      "  0%|          | 0/4 [00:00<?, ?it/s]"
     ]
    },
    {
     "name": "stdout",
     "output_type": "stream",
     "text": [
      "{'dataset': 'CHEMBL4419606_IC50_nM', 'epoch': 16, 'Loss': 0.39096665382385254, 'metric': 'RMSE', 'train': 0.6256282337978031, 'valid': 1.1044074336924967, 'test': 0.8734849507656991}\n"
     ]
    },
    {
     "name": "stderr",
     "output_type": "stream",
     "text": [
      "[train] dataset: CHEMBL4419606_IC50_nM; epoch: 17 total loss: 0.455: 100%|██████████| 4/4 [00:17<00:00,  4.34s/it]\n",
      "[eval on train set] dataset: CHEMBL4419606_IC50_nM; epoch: 17 total loss: 0.387: 100%|██████████| 4/4 [00:03<00:00,  1.15it/s]\n",
      "[eval on valid set] dataset: CHEMBL4419606_IC50_nM; epoch: 17 total loss: 1.422: 100%|██████████| 2/2 [00:02<00:00,  1.05s/it]\n",
      "[eval on test set] dataset: CHEMBL4419606_IC50_nM; epoch: 17 total loss: 0.941: 100%|██████████| 2/2 [00:02<00:00,  1.10s/it]\n",
      "  0%|          | 0/4 [00:00<?, ?it/s]"
     ]
    },
    {
     "name": "stdout",
     "output_type": "stream",
     "text": [
      "{'dataset': 'CHEMBL4419606_IC50_nM', 'epoch': 17, 'Loss': 0.3865315914154053, 'metric': 'RMSE', 'train': 0.6223643742885273, 'valid': 1.1898175964896192, 'test': 0.88253033954164}\n"
     ]
    },
    {
     "name": "stderr",
     "output_type": "stream",
     "text": [
      "[train] dataset: CHEMBL4419606_IC50_nM; epoch: 18 total loss: 0.531: 100%|██████████| 4/4 [00:17<00:00,  4.35s/it]\n",
      "[eval on train set] dataset: CHEMBL4419606_IC50_nM; epoch: 18 total loss: 0.503: 100%|██████████| 4/4 [00:03<00:00,  1.18it/s]\n",
      "[eval on valid set] dataset: CHEMBL4419606_IC50_nM; epoch: 18 total loss: 1.337: 100%|██████████| 2/2 [00:02<00:00,  1.24s/it]\n",
      "[eval on test set] dataset: CHEMBL4419606_IC50_nM; epoch: 18 total loss: 0.868: 100%|██████████| 2/2 [00:01<00:00,  1.06it/s]\n"
     ]
    },
    {
     "name": "stdout",
     "output_type": "stream",
     "text": [
      "{'dataset': 'CHEMBL4419606_IC50_nM', 'epoch': 18, 'Loss': 0.5028144121170044, 'metric': 'RMSE', 'train': 0.7095088568091602, 'valid': 1.0613742818200071, 'test': 0.9283741829100248}\n"
     ]
    },
    {
     "name": "stderr",
     "output_type": "stream",
     "text": [
      "  0%|          | 0/4 [00:00<?, ?it/s]"
     ]
    },
    {
     "name": "stdout",
     "output_type": "stream",
     "text": [
      "model has been saved as ./experiments//valid_best.pth\n"
     ]
    },
    {
     "name": "stderr",
     "output_type": "stream",
     "text": [
      "[train] dataset: CHEMBL4419606_IC50_nM; epoch: 19 total loss: 0.614: 100%|██████████| 4/4 [00:15<00:00,  3.80s/it]\n",
      "[eval on train set] dataset: CHEMBL4419606_IC50_nM; epoch: 19 total loss: 0.400: 100%|██████████| 4/4 [00:03<00:00,  1.10it/s]\n",
      "[eval on valid set] dataset: CHEMBL4419606_IC50_nM; epoch: 19 total loss: 1.482: 100%|██████████| 2/2 [00:02<00:00,  1.08s/it]\n",
      "[eval on test set] dataset: CHEMBL4419606_IC50_nM; epoch: 19 total loss: 1.002: 100%|██████████| 2/2 [00:01<00:00,  1.03it/s]"
     ]
    },
    {
     "name": "stdout",
     "output_type": "stream",
     "text": [
      "{'dataset': 'CHEMBL4419606_IC50_nM', 'epoch': 19, 'Loss': 0.39989158511161804, 'metric': 'RMSE', 'train': 0.6347406386294617, 'valid': 1.2316521539528318, 'test': 0.8950878212845311}\n",
      "results: {'highest_valid': 1.0613742818200071, 'final_train': 0.7095088568091602, 'final_test': 0.9283741829100248, 'highest_train': 0.6144244852484844}\n",
      "\n"
     ]
    },
    {
     "name": "stderr",
     "output_type": "stream",
     "text": [
      "\n"
     ]
    }
   ],
   "execution_count": 2
  },
  {
   "metadata": {},
   "cell_type": "code",
   "outputs": [],
   "execution_count": null,
   "source": "",
   "id": "7277567a9e008f84"
  }
 ],
 "metadata": {
  "kernelspec": {
   "display_name": "Python 3",
   "language": "python",
   "name": "python3"
  },
  "language_info": {
   "codemirror_mode": {
    "name": "ipython",
    "version": 2
   },
   "file_extension": ".py",
   "mimetype": "text/x-python",
   "name": "python",
   "nbconvert_exporter": "python",
   "pygments_lexer": "ipython2",
   "version": "2.7.6"
  }
 },
 "nbformat": 4,
 "nbformat_minor": 5
}
