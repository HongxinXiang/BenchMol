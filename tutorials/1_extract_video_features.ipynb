{
 "cells": [
  {
   "metadata": {},
   "cell_type": "markdown",
   "source": "# Demo: Extracting features from video using VideoMol",
   "id": "386ce77d9d60f6c0"
  },
  {
   "metadata": {
    "ExecuteTime": {
     "end_time": "2024-09-29T05:45:11.245074Z",
     "start_time": "2024-09-29T05:45:06.716626Z"
    }
   },
   "cell_type": "code",
   "source": [
    "import pandas as pd\n",
    "from benchmol.feature_extraction import MVImageFeatureExtractor\n",
    "from benchmol.model_pools.image_factory import ImageModelFactory\n",
    "from benchmol.utils.public_utils import setup_device\n",
    "from benchmol.dataloader.image_dataset import get_image_path_list"
   ],
   "id": "f9b0224a1aaea268",
   "outputs": [],
   "execution_count": 1
  },
  {
   "metadata": {
    "ExecuteTime": {
     "end_time": "2024-09-29T05:45:40.714677Z",
     "start_time": "2024-09-29T05:45:40.401850Z"
    }
   },
   "cell_type": "code",
   "source": [
    "model_config = {\n",
    "    \"name\": \"VideoMol\",\n",
    "    \"model_name\": \"vit_small_patch16_224\",\n",
    "    \"data_type\": \"video\",\n",
    "    \"pratrain_path\": \"../checkpoints/pretrained-image/videomol.pth\",\n",
    "    \"pratrain_model_key\": \"frame_model\"\n",
    "}\n",
    "device, device_ids = setup_device(1)\n",
    "device = \"cpu\""
   ],
   "id": "b418457a9fdc9511",
   "outputs": [],
   "execution_count": 2
  },
  {
   "metadata": {
    "ExecuteTime": {
     "end_time": "2024-09-29T05:46:10.094792Z",
     "start_time": "2024-09-29T05:46:10.076929Z"
    }
   },
   "cell_type": "code",
   "source": [
    "model_name = model_config[\"model_name\"]\n",
    "data_type = model_config[\"data_type\"]\n",
    "pratrain_path = model_config[\"pratrain_path\"]\n",
    "pratrain_model_key = model_config[\"pratrain_model_key\"]\n",
    "\n",
    "root = \"../datasets/toys\"\n",
    "dataset = \"CHEMBL4419606_IC50_nM\"\n",
    "csv_path = f\"{root}/{dataset}/processed/{dataset}_processed_ac.csv\"\n",
    "df = pd.read_csv(csv_path)\n",
    "index_list = df[\"index\"].tolist()\n",
    "image_path_list = get_image_path_list(root=f\"{root}/{dataset}/processed\", data_type=data_type, index_list=index_list, img_dir=\"rdkit/type-video\")"
   ],
   "id": "bb167a1d1c70c66f",
   "outputs": [],
   "execution_count": 3
  },
  {
   "metadata": {
    "ExecuteTime": {
     "end_time": "2024-09-29T05:51:04.071862Z",
     "start_time": "2024-09-29T05:46:20.311532Z"
    }
   },
   "cell_type": "code",
   "source": [
    "model = ImageModelFactory(model_name=model_name, head_arch=\"none\", num_tasks=1).to(device)\n",
    "if pratrain_model_key is not None:\n",
    "    model.from_pretrained(pratrain_path, model_key=pratrain_model_key)\n",
    "\n",
    "feature_extractor = MVImageFeatureExtractor(model, image_path_list, batch_size=4, device=device)\n",
    "feature_extractor.extract_features()\n",
    "features = feature_extractor.return_features()\n",
    "print(features.shape)"
   ],
   "id": "75d3ed99fb6f1382",
   "outputs": [
    {
     "name": "stderr",
     "output_type": "stream",
     "text": [
      "extract features: 100%|██████████| 52/52 [04:42<00:00,  5.44s/it]\n"
     ]
    },
    {
     "name": "stdout",
     "output_type": "stream",
     "text": [
      "(207, 384)\n"
     ]
    }
   ],
   "execution_count": 4
  },
  {
   "metadata": {},
   "cell_type": "code",
   "outputs": [],
   "execution_count": null,
   "source": "",
   "id": "2e95870398f6df34"
  }
 ],
 "metadata": {
  "kernelspec": {
   "display_name": "Python 3",
   "language": "python",
   "name": "python3"
  },
  "language_info": {
   "codemirror_mode": {
    "name": "ipython",
    "version": 2
   },
   "file_extension": ".py",
   "mimetype": "text/x-python",
   "name": "python",
   "nbconvert_exporter": "python",
   "pygments_lexer": "ipython2",
   "version": "2.7.6"
  }
 },
 "nbformat": 4,
 "nbformat_minor": 5
}
