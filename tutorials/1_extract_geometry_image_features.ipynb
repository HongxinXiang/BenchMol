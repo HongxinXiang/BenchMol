{
 "cells": [
  {
   "metadata": {},
   "cell_type": "markdown",
   "source": [
    "# Demo: Extracting features from geometry image using IEM\n",
    "geometry image is a multi-view image."
   ],
   "id": "fa9fee788ced2fc4"
  },
  {
   "metadata": {
    "ExecuteTime": {
     "end_time": "2024-09-29T05:37:01.995503Z",
     "start_time": "2024-09-29T05:36:56.707227Z"
    }
   },
   "cell_type": "code",
   "source": [
    "import pandas as pd\n",
    "from benchmol.feature_extraction import MVImageFeatureExtractor\n",
    "from benchmol.model_pools.image_factory import ImageModelFactory\n",
    "from benchmol.utils.public_utils import setup_device\n",
    "from benchmol.dataloader.image_dataset import get_image_path_list"
   ],
   "id": "f4deb292cf85c96d",
   "outputs": [],
   "execution_count": 1
  },
  {
   "metadata": {
    "ExecuteTime": {
     "end_time": "2024-09-29T05:37:04.052465Z",
     "start_time": "2024-09-29T05:37:03.506091Z"
    }
   },
   "cell_type": "code",
   "source": [
    "model_config = {\n",
    "    \"name\": \"IEM_3d_1conf\",\n",
    "    \"model_name\": \"resnet18\",\n",
    "    \"data_type\": \"multi_view_image\",\n",
    "    \"pratrain_path\": \"../checkpoints/pretrained-image/IEM.pth\",\n",
    "    \"pratrain_model_key\": \"image3d_teacher\"\n",
    "}\n",
    "device, device_ids = setup_device(1)\n",
    "device = \"cpu\""
   ],
   "id": "f02cc13110425648",
   "outputs": [],
   "execution_count": 2
  },
  {
   "metadata": {
    "ExecuteTime": {
     "end_time": "2024-09-29T05:37:04.725397Z",
     "start_time": "2024-09-29T05:37:04.714569Z"
    }
   },
   "cell_type": "code",
   "source": [
    "model_name = model_config[\"model_name\"]\n",
    "data_type = model_config[\"data_type\"]\n",
    "pratrain_path = model_config[\"pratrain_path\"]\n",
    "pratrain_model_key = model_config[\"pratrain_model_key\"]\n",
    "\n",
    "root = \"../datasets/toys\"\n",
    "dataset = \"CHEMBL4419606_IC50_nM\"\n",
    "csv_path = f\"{root}/{dataset}/processed/{dataset}_processed_ac.csv\"\n",
    "df = pd.read_csv(csv_path)\n",
    "index_list = df[\"index\"].tolist()\n",
    "image_path_list = get_image_path_list(root=f\"{root}/{dataset}/processed\", data_type=data_type, index_list=index_list, img_dir=\"rdkit/type-IEM\")"
   ],
   "id": "10cd3db04d0c7a12",
   "outputs": [],
   "execution_count": 3
  },
  {
   "metadata": {
    "ExecuteTime": {
     "end_time": "2024-09-29T05:38:50.119895Z",
     "start_time": "2024-09-29T05:38:41.986381Z"
    }
   },
   "cell_type": "code",
   "source": [
    "model = ImageModelFactory(model_name=model_name, head_arch=\"none\", num_tasks=1).to(device)\n",
    "if pratrain_model_key is not None:\n",
    "    model.from_pretrained(pratrain_path, model_key=pratrain_model_key)\n",
    "\n",
    "feature_extractor = MVImageFeatureExtractor(model, image_path_list, batch_size=8, device=device)\n",
    "feature_extractor.extract_features()\n",
    "features = feature_extractor.return_features()\n",
    "print(features.shape)"
   ],
   "id": "8f7c01da8810ff26",
   "outputs": [
    {
     "name": "stderr",
     "output_type": "stream",
     "text": [
      "extract features: 100%|██████████| 26/26 [00:07<00:00,  3.27it/s]"
     ]
    },
    {
     "name": "stdout",
     "output_type": "stream",
     "text": [
      "(207, 512)\n"
     ]
    },
    {
     "name": "stderr",
     "output_type": "stream",
     "text": [
      "\n"
     ]
    }
   ],
   "execution_count": 4
  },
  {
   "metadata": {},
   "cell_type": "code",
   "outputs": [],
   "execution_count": null,
   "source": "",
   "id": "7c914c1ee6f7e7ea"
  }
 ],
 "metadata": {
  "kernelspec": {
   "display_name": "Python 3",
   "language": "python",
   "name": "python3"
  },
  "language_info": {
   "codemirror_mode": {
    "name": "ipython",
    "version": 2
   },
   "file_extension": ".py",
   "mimetype": "text/x-python",
   "name": "python",
   "nbconvert_exporter": "python",
   "pygments_lexer": "ipython2",
   "version": "2.7.6"
  }
 },
 "nbformat": 4,
 "nbformat_minor": 5
}
