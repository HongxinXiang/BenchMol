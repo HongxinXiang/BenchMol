{
 "cells": [
  {
   "metadata": {},
   "cell_type": "markdown",
   "source": "# Demo: Extracting features from sequence using un-pretrained CHEM-BERT",
   "id": "8c6f76eb664cf960"
  },
  {
   "metadata": {
    "ExecuteTime": {
     "end_time": "2024-09-29T05:57:00.869159Z",
     "start_time": "2024-09-29T05:56:55.763686Z"
    }
   },
   "cell_type": "code",
   "source": [
    "from feature_extraction.feature_extractor import SmilesFeatureExtractor\n",
    "from model_pools.smiles_factory import SmilesModelFactory\n",
    "from benchmol.utils.public_utils import setup_device"
   ],
   "id": "7638c84a1645b5dd",
   "outputs": [],
   "execution_count": 1
  },
  {
   "metadata": {
    "ExecuteTime": {
     "end_time": "2024-09-29T05:57:16.487788Z",
     "start_time": "2024-09-29T05:57:16.418975Z"
    }
   },
   "cell_type": "code",
   "source": [
    "model_config = {\n",
    "    \"name\": \"CHEM-BERT\",\n",
    "    \"model_name\": \"CHEM-BERT-origin-RANDOM\",\n",
    "    \"vocab_path\": None,\n",
    "    \"pratrain_path\": None\n",
    "\n",
    "}\n",
    "device, device_ids = setup_device(1)\n",
    "device = \"cpu\""
   ],
   "id": "2967e3a8d9eaf61a",
   "outputs": [],
   "execution_count": 2
  },
  {
   "metadata": {
    "ExecuteTime": {
     "end_time": "2024-09-29T05:57:17.575324Z",
     "start_time": "2024-09-29T05:57:17.570904Z"
    }
   },
   "cell_type": "code",
   "source": [
    "model_name = model_config[\"model_name\"]\n",
    "vocab_path = model_config[\"vocab_path\"]\n",
    "pratrain_path = model_config[\"pratrain_path\"]\n",
    "\n",
    "root = \"../datasets/toys\"\n",
    "dataset = \"CHEMBL4419606_IC50_nM\"\n",
    "csv_path = f\"{root}/{dataset}/processed/{dataset}_processed_ac.csv\""
   ],
   "id": "e08f9c101a5ff35c",
   "outputs": [],
   "execution_count": 3
  },
  {
   "metadata": {
    "ExecuteTime": {
     "end_time": "2024-09-29T05:57:47.463521Z",
     "start_time": "2024-09-29T05:57:19.407688Z"
    }
   },
   "cell_type": "code",
   "source": [
    "model = SmilesModelFactory(model_name=model_name, head_arch=\"none\", num_tasks=1, vocab_path=None,\n",
    "                           pretrain_path=None, device=device).model.to(device)\n",
    "\n",
    "feature_extractor = SmilesFeatureExtractor(model, csv_path, batch_size=8, num_workers=2, device=device)\n",
    "feature_extractor.extract_features()\n",
    "features = feature_extractor.return_features()\n",
    "print(features.shape)"
   ],
   "id": "acf0e102ef520a59",
   "outputs": [
    {
     "name": "stderr",
     "output_type": "stream",
     "text": [
      "extract features: 100%|██████████| 26/26 [00:27<00:00,  1.07s/it]"
     ]
    },
    {
     "name": "stdout",
     "output_type": "stream",
     "text": [
      "(207, 1024)\n"
     ]
    },
    {
     "name": "stderr",
     "output_type": "stream",
     "text": [
      "\n"
     ]
    }
   ],
   "execution_count": 4
  },
  {
   "metadata": {},
   "cell_type": "code",
   "outputs": [],
   "execution_count": null,
   "source": "",
   "id": "b18b3840842cd18f"
  }
 ],
 "metadata": {
  "kernelspec": {
   "display_name": "Python 3",
   "language": "python",
   "name": "python3"
  },
  "language_info": {
   "codemirror_mode": {
    "name": "ipython",
    "version": 2
   },
   "file_extension": ".py",
   "mimetype": "text/x-python",
   "name": "python",
   "nbconvert_exporter": "python",
   "pygments_lexer": "ipython2",
   "version": "2.7.6"
  }
 },
 "nbformat": 4,
 "nbformat_minor": 5
}
